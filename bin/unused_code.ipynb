{
 "cells": [
  {
   "cell_type": "markdown",
   "id": "39d00c97-c4d0-4c3d-b6ca-200abdf20dde",
   "metadata": {},
   "source": [
    "# bin \n",
    "code that I havent use in a final version"
   ]
  },
  {
   "cell_type": "code",
   "execution_count": null,
   "id": "2702f4a2-7710-4d68-92a2-4afdf300fa01",
   "metadata": {},
   "outputs": [],
   "source": [
    "# configs for summary df function\n",
    "configs_barPlot = dict(adjust_top=0.95, fontsize_scale=1.2, barplot_cmap=\"tab10\") # for annotated_barplot\n",
    "configs_pieChart = dict(class_colors_cmap=\"tab10\", title=\"Column number with each data type\", cmap_colors_from=0,\n",
    "                        cmap_colors_to=0.3, figsze_scale=1, figwidth_scale=0.6, figheight_scale=0.6, subplots_adjust_top=0.98,\n",
    "                        title_fontsize_scale=0.5, ax_title_fonsize_scale=0.5, title_ha='center') # annotated_pie_chart_with_class_and_group\n",
    "\n",
    "\n"
   ]
  },
  {
   "cell_type": "code",
   "execution_count": 1,
   "id": "f29eb3b8-8eeb-44e1-b2cd-17dd5448eab1",
   "metadata": {},
   "outputs": [],
   "source": [
    "# Function, ...................................\n",
    "def get_summary(df, features, fillna=None):\n",
    "    ''' helper function: provides nicely fomratted table \n",
    "        with counts and percenatge of each group defined with several features\n",
    "        parameters:\n",
    "        . df; pandas, data frame\n",
    "        . features; list with 2 or 3 column names in df\n",
    "        . fillna; None, or str/int, value for pandas.fillna(value=<fillna>)\n",
    "        returns:\n",
    "        . pandas data frame\n",
    "        example:\n",
    "        >>> features = ['target','Sex', 'Immune phenotype']\n",
    "        >>> get_summary(data_temp, features, fillna=\"MISSING\") \n",
    "    '''\n",
    "    # test input df, & work on df copy,\n",
    "    assert type(df) == pd.DataFrame, \"Incorrect obj type\"\n",
    "    df = df.copy()\n",
    "    \n",
    "    # fillna\n",
    "    if fillna is not None: \n",
    "        df = df.fillna(value=fillna)\n",
    "    else:\n",
    "        pass\n",
    "    \n",
    "    # group the data with provided features, \n",
    "    grp = df.groupby(by=features)\n",
    "    # count instances in each group and store index\n",
    "    grp_df = grp.size().unstack().fillna(0)\n",
    "    grp_df_index = grp_df.index\n",
    "    # calulate percentages\n",
    "    grp_perc = grp_df.div(grp_df.sum(axis=1), axis=0)\n",
    "\n",
    "    # reset indexes, to avoid problems with many selected features\n",
    "    grp_df.reset_index(drop=True, inplace=True)\n",
    "    grp_perc.reset_index(drop=True, inplace=True)\n",
    "    \n",
    "    # create nice output with counts, and percentage value per row\n",
    "    'a user-fiendly format eg: 19 (52%)'\n",
    "    df_res=[]\n",
    "    for index in range(grp_df.shape[0]):\n",
    "        df_res.append([f'{int(x)}   ({int(y*100)}%)' \n",
    "         for x, y in zip(\n",
    "             grp_df.iloc[index,:].to_list(), \n",
    "             grp_perc.iloc[index,:].to_list()\n",
    "         )])\n",
    "    \n",
    "    # \"transplant\" column names and indexes created by groupby\n",
    "    df_res = pd.DataFrame(\n",
    "        df_res, \n",
    "        index=grp_df_index,\n",
    "        columns=grp_df.columns\n",
    "    )\n",
    "    \n",
    "    # add the last column with sum\n",
    "    print(grp_df.sum(axis=1))\n",
    "    \n",
    "    \n",
    "    return df_res\n",
    "\n",
    "\n",
    "\n",
    "\n",
    "\n",
    "\n",
    "\n"
   ]
  },
  {
   "cell_type": "code",
   "execution_count": null,
   "id": "dccfb4a6-9a1c-432d-8793-fbe965f3daca",
   "metadata": {},
   "outputs": [],
   "source": []
  },
  {
   "cell_type": "code",
   "execution_count": null,
   "id": "51f20d1f-a42b-41ed-a846-c00c30db845a",
   "metadata": {},
   "outputs": [],
   "source": []
  }
 ],
 "metadata": {
  "kernelspec": {
   "display_name": "Python 3",
   "language": "python",
   "name": "python3"
  },
  "language_info": {
   "codemirror_mode": {
    "name": "ipython",
    "version": 3
   },
   "file_extension": ".py",
   "mimetype": "text/x-python",
   "name": "python",
   "nbconvert_exporter": "python",
   "pygments_lexer": "ipython3",
   "version": "3.7.10"
  }
 },
 "nbformat": 4,
 "nbformat_minor": 5
}
