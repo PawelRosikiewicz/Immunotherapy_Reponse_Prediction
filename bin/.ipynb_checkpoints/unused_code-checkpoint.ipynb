{
 "cells": [
  {
   "cell_type": "markdown",
   "id": "39d00c97-c4d0-4c3d-b6ca-200abdf20dde",
   "metadata": {},
   "source": [
    "# bin \n",
    "code that I havent use in a final version"
   ]
  },
  {
   "cell_type": "code",
   "execution_count": null,
   "id": "2702f4a2-7710-4d68-92a2-4afdf300fa01",
   "metadata": {},
   "outputs": [],
   "source": [
    "# configs for summary df function\n",
    "configs_barPlot = dict(adjust_top=0.95, fontsize_scale=1.2, barplot_cmap=\"tab10\") # for annotated_barplot\n",
    "configs_pieChart = dict(class_colors_cmap=\"tab10\", title=\"Column number with each data type\", cmap_colors_from=0,\n",
    "                        cmap_colors_to=0.3, figsze_scale=1, figwidth_scale=0.6, figheight_scale=0.6, subplots_adjust_top=0.98,\n",
    "                        title_fontsize_scale=0.5, ax_title_fonsize_scale=0.5, title_ha='center') # annotated_pie_chart_with_class_and_group\n",
    "\n",
    "\n"
   ]
  },
  {
   "cell_type": "code",
   "execution_count": null,
   "id": "f29eb3b8-8eeb-44e1-b2cd-17dd5448eab1",
   "metadata": {},
   "outputs": [],
   "source": []
  },
  {
   "cell_type": "code",
   "execution_count": null,
   "id": "dccfb4a6-9a1c-432d-8793-fbe965f3daca",
   "metadata": {},
   "outputs": [],
   "source": []
  },
  {
   "cell_type": "code",
   "execution_count": null,
   "id": "51f20d1f-a42b-41ed-a846-c00c30db845a",
   "metadata": {},
   "outputs": [],
   "source": []
  }
 ],
 "metadata": {
  "kernelspec": {
   "display_name": "Python 3",
   "language": "python",
   "name": "python3"
  },
  "language_info": {
   "codemirror_mode": {
    "name": "ipython",
    "version": 3
   },
   "file_extension": ".py",
   "mimetype": "text/x-python",
   "name": "python",
   "nbconvert_exporter": "python",
   "pygments_lexer": "ipython3",
   "version": "3.7.10"
  }
 },
 "nbformat": 4,
 "nbformat_minor": 5
}
