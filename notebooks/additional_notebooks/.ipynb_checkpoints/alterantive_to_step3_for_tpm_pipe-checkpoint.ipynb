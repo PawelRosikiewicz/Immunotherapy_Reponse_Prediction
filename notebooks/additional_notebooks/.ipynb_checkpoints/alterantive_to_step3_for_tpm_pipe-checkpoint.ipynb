{
 "cells": [
  {
   "cell_type": "code",
   "execution_count": null,
   "id": "a3b10a1c-1806-45f7-8c89-1d6d52e8a436",
   "metadata": {},
   "outputs": [],
   "source": [
    "# step 3. apply robuscaller to results from each sample\n",
    "\n",
    "# .. apply robust-scaler for expression data from each sample\n",
    "robust_scaler = RobustScaler() \n",
    "robust_scaler =  QuantileTransformer(output_distribution='normal')\n",
    "data_genes_log_filtered_scaled = robust_scaler.fit_transform(data_genes_log_filtered.transpose())\n",
    "data_genes_log_filtered_scaled = data_genes_log_filtered_scaled.transpose()\n",
    "\n",
    "# .. format\n",
    "data_genes_log_filtered_scaled = pd.DataFrame(\n",
    "    data_genes_log_filtered_scaled,\n",
    "    columns=data_genes_log_filtered.columns\n",
    ")\n",
    "print(\"after scaling with robustscaler: \", data_genes_log_filtered_scaled.shape)"
   ]
  }
 ],
 "metadata": {
  "kernelspec": {
   "display_name": "Python 3",
   "language": "python",
   "name": "python3"
  },
  "language_info": {
   "codemirror_mode": {
    "name": "ipython",
    "version": 3
   },
   "file_extension": ".py",
   "mimetype": "text/x-python",
   "name": "python",
   "nbconvert_exporter": "python",
   "pygments_lexer": "ipython3",
   "version": "3.7.10"
  }
 },
 "nbformat": 4,
 "nbformat_minor": 5
}
