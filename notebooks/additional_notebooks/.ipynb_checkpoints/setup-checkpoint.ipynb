{
 "cells": [
  {
   "cell_type": "markdown",
   "id": "9de1b817-12e8-4d5c-9850-655bf8838f1a",
   "metadata": {
    "tags": []
   },
   "source": [
    "# Machine Learning task: Predicting response to cancer immunotherapy\n",
    "by: __Pawel Rosikiewicz__ www.SimpleAI.ch   \n",
    "provided by: __Ardigen__  \n",
    "\n",
    "## Notebook purpose: Setup working enviroment\n",
    "* it contains set of standard dunctions that I am using to organize my files in the project"
   ]
  },
  {
   "cell_type": "code",
   "execution_count": null,
   "id": "a08bfd2d-140a-4655-9556-78e0bee90cf9",
   "metadata": {},
   "outputs": [],
   "source": [
    "# imports,\n",
    "import os # allow changing, and navigating files and folders, \n",
    "import sys\n",
    "import re # module to use regular expressions, \n",
    "import glob # lists names in folders that match Unix shell patterns"
   ]
  },
  {
   "cell_type": "code",
   "execution_count": null,
   "id": "c46fae0c-50e1-4f22-b870-c44f02564251",
   "metadata": {},
   "outputs": [],
   "source": [
    "# basedir\n",
    "basedir = os.path.dirname(os.getcwd())\n",
    "os.chdir(basedir)\n",
    "sys.path.append(basedir)\n",
    "print(basedir) # shoudl be ../myproject/"
   ]
  },
  {
   "cell_type": "code",
   "execution_count": null,
   "id": "09b80967-bb89-4fb9-b328-aea8378ee76b",
   "metadata": {},
   "outputs": [],
   "source": [
    "# create folders holing different types of data por notebooks, \n",
    "files_to_create = {\n",
    "          \"bin\": os.path.join(basedir, \"bin\"),\n",
    "          \"dev notes\": os.path.join(basedir, \"notes\"),\n",
    "          # ....\n",
    "          \"for jupyter notebooks\": os.path.join(basedir, \"notebooks\"),\n",
    "          \"to store models, pretrained NNs etc. used in the project\": os.path.join(basedir, \"models\"),\n",
    "          # ...\n",
    "          \"for tools in .py format\": os.path.join(basedir, \"src\"),\n",
    "          \"custom funcitons and classes created for the project\": os.path.join(basedir, \"src/utils\"),\n",
    "          \"config files\": os.path.join(basedir, \"src/configs\"),\n",
    "          # ....\n",
    "          \"to store data and resuls\": os.path.join(basedir, \"data\"),\n",
    "          \"raw data from external providers\": os.path.join(basedir, \"data/raw\"),\n",
    "          \"intermediate data\": os.path.join(basedir, \"data/interim\"),\n",
    "          \"for final results, predictions, summaries, reports, etc..\": os.path.join(basedir, \"data/results\")\n",
    "      }"
   ]
  },
  {
   "cell_type": "code",
   "execution_count": null,
   "id": "1e0a0e41-dc68-4181-aac6-9a7ff21733b6",
   "metadata": {},
   "outputs": [],
   "source": [
    "# create file structure for the project\n",
    "for file_function in list(files_to_create.keys()):\n",
    "    try:\n",
    "        os.mkdir(files_to_create[file_function])\n",
    "    except:\n",
    "        print(\"file\", file_function, \" - - - was already created\")"
   ]
  },
  {
   "cell_type": "code",
   "execution_count": null,
   "id": "aefb5cde-7fb1-4ab7-885c-0ca910644cc1",
   "metadata": {},
   "outputs": [],
   "source": []
  },
  {
   "cell_type": "code",
   "execution_count": null,
   "id": "8ceaee4c-6770-4ae2-9dd4-b88135124677",
   "metadata": {},
   "outputs": [],
   "source": []
  }
 ],
 "metadata": {
  "kernelspec": {
   "display_name": "Python 3",
   "language": "python",
   "name": "python3"
  },
  "language_info": {
   "codemirror_mode": {
    "name": "ipython",
    "version": 3
   },
   "file_extension": ".py",
   "mimetype": "text/x-python",
   "name": "python",
   "nbconvert_exporter": "python",
   "pygments_lexer": "ipython3",
   "version": "3.7.10"
  }
 },
 "nbformat": 4,
 "nbformat_minor": 5
}
